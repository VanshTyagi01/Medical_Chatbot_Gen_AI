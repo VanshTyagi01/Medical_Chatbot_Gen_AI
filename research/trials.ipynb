{
 "cells": [
  {
   "cell_type": "code",
   "execution_count": null,
   "metadata": {},
   "outputs": [],
   "source": [
    "from langchain.document_loaders import PyPDFLoader, DirectoryLoader\n",
    "from langchain.text_splitter import RecursiveCharacterTextSplitter"
   ]
  },
  {
   "cell_type": "code",
   "execution_count": null,
   "metadata": {},
   "outputs": [],
   "source": [
    "# Extract data from pdf files\n",
    "def load_pdf_file(data):\n",
    "    loader =DirectoryLoader(data,\n",
    "                            glob=\"*.pdf\",\n",
    "                            loader_cls=PyPDFLoader)\n",
    "    documents = loader.load()\n",
    "\n",
    "    return documents"
   ]
  },
  {
   "cell_type": "code",
   "execution_count": null,
   "metadata": {},
   "outputs": [
    {
     "data": {
      "text/plain": [
       "Traceback (most recent call last):\n",
       "  File \"c:\\Users\\HP\\.vscode\\extensions\\ms-python.python-2025.0.0-win32-x64\\python_files\\python_server.py\", line 133, in exec_user_input\n",
       "    retval = callable_(user_input, user_globals)\n",
       "             ^^^^^^^^^^^^^^^^^^^^^^^^^^^^^^^^^^^\n",
       "  File \"<string>\", line 1, in <module>\n",
       "  File \"<string>\", line 6, in load_pdf_file\n",
       "  File \"d:\\ML_Projects\\Medical_Chatbot_Gen_AI\\medibot\\Lib\\site-packages\\langchain_community\\document_loaders\\directory.py\", line 117, in load\n",
       "    return list(self.lazy_load())\n",
       "           ^^^^^^^^^^^^^^^^^^^^^^\n",
       "  File \"d:\\ML_Projects\\Medical_Chatbot_Gen_AI\\medibot\\Lib\\site-packages\\langchain_community\\document_loaders\\directory.py\", line 123, in lazy_load\n",
       "    raise FileNotFoundError(f\"Directory not found: '{self.path}'\")\n",
       "FileNotFoundError: Directory not found: 'Data/'\n",
       "\n"
      ]
     },
     "metadata": {},
     "output_type": "display_data"
    }
   ],
   "source": [
    "extracted_data = load_pdf_file(data='Data/')"
   ]
  }
 ],
 "metadata": {
  "language_info": {
   "name": "python"
  }
 },
 "nbformat": 4,
 "nbformat_minor": 2
}
